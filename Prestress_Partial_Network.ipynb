{
 "cells": [
  {
   "cell_type": "code",
   "execution_count": 2,
   "metadata": {},
   "outputs": [],
   "source": [
    "# Analysis\n",
    "import numpy as np\n",
    "import networkx as nx\n",
    "import rigidpy as rp\n",
    "import os\n",
    "from scipy.optimize import minimize, curve_fit\n",
    "from scipy.linalg import eigh\n",
    "\n",
    "# Visualization\n",
    "from matplotlib import pyplot as plt\n",
    "import matplotlib.colors as colors\n",
    "import matplotlib.cm as cmx"
   ]
  },
  {
   "cell_type": "markdown",
   "metadata": {},
   "source": [
    "### Generating Networks:\n",
    "\n",
    "#### Accounting for aspect ratio of hexagons to get a system that is close to square\n",
    "Networks are created using the hexagonal_lattice_graph function in the networkx package to create a periodic hexagonal lattice of $N_{rows}$ hexagons by $N_{cols}$ hexagons. $N_{rows}$ is an input parameter and $N_{cols}$ is calculated to make the lattice as close to a square as possible due to the $2:\\sqrt{3}$ aspect ratio of hexagons. $N_{cols}$ is calculated from $N_{rows}$ by rounding $\\frac{2}{\\sqrt{3}}N_{rows}$ to the nearest integer value. But since networkx does not allow for an odd number of columns with periodic boundary conditions, when $N_{cols}$ as calculated above is odd, 1 is added to $N_{cols}$ if in the last step it was rounded down and 1 is subtracted if it was rounded up.\n",
    "\n",
    "#### Drift y-values from networkx implementation\n",
    "Lastly, networkx adds a drift value to the y-coordinates of points in the hexagonal lattice when there are periodic boundaries, so this is corrected for by resetting the y-coordinates for all points to be consistent with the first column which does not have a drift.\n",
    "\n",
    "#### Applying disorder to the network\n",
    "disorder is added to the network by adding a randomly oriented vector of size d to each node. The resulting network will serve as the starting network where all bond-lengths are equivalent to the rest-lengths so that it starts with no energy in the system. Rest-lengths are then altered to add prestress in the system as detailed below. We tried networks with disorder values Wildtype: d=0.0875, E-cad RNAi: d=0.158\n",
    "\n",
    "\n",
    "### Prestressing Networks:\n",
    "\n",
    "#### Applying prestrain\n",
    "To conduct the prestressing in only one portion of the network, I identify bonds with a location (defined by the center-point of the bond) in the relevant area of interest from the version of the network with no disorder. We make sure to include periodic bonds which may have a position that is negative due to wrap-around. Note that depending on the initial network construction from the sizing and aspect ratio considerations mentioned above, the area percentage may not be exact, but network sizes run here were chosen here such that area percentages of 50% are exact. These bonds are contracted by a target prestrain value $\\epsilon_p = \\frac{\\ell}{\\ell_0} - 1$ by resetting their rest-lengths to $\\ell_0 = \\frac{\\ell}{1 + \\epsilon_p}$.\n",
    "\n",
    "#### Energy minimization\n",
    "After the application of prestress, the network has to be equillibrated to see the propogation of stress through the network. This is done using the rigidpy package configuration class and the scipy.optimize.minimize function with a tolerance of 1e-20.\n",
    "\n",
    "#### Evaluation of rigidity\n",
    "Rigidity of the network can be determined by finding the lowest non-trivial eigenvalue of the system. This is done using the rigidpy package which finds calculates the hessian matrix of the system and finds the corresponding eigenvalues."
   ]
  },
  {
   "cell_type": "code",
   "execution_count": 3,
   "metadata": {},
   "outputs": [],
   "source": [
    "# save a network\n",
    "def save(F, folder_name):\n",
    "    os.mkdir(folder_name)\n",
    "    np.save(folder_name + '/nodes.npy', F.coordinates)\n",
    "    np.save(folder_name + '/bonds.npy', F.bonds)\n",
    "    np.save(folder_name + '/basis.npy', F.basis)\n",
    "    np.save(folder_name + '/ks.npy', np.diag(F.K))\n",
    "    np.save(folder_name + '/l0s.npy', F.L0)\n",
    "\n",
    "# load a network thats been saved\n",
    "def load(folder_name):\n",
    "    nodes = np.load(folder_name + '/nodes.npy')\n",
    "    bonds = np.load(folder_name + '/bonds.npy')\n",
    "    basis = np.load(folder_name + '/basis.npy')\n",
    "    ks = np.load(folder_name + '/ks.npy')\n",
    "    l0s = np.load(folder_name + '/l0s.npy')\n",
    "    F = rp.framework(nodes, bonds, basis, k=ks, restLengths = l0s)\n",
    "    return F"
   ]
  },
  {
   "cell_type": "code",
   "execution_count": 4,
   "metadata": {},
   "outputs": [],
   "source": [
    "# corrects y drift in networkx node position calculation and returns corrected positions\n",
    "def correct_drift(nodes, N):\n",
    "    nodes_copy = np.copy(nodes)    # secure copy of nodes\n",
    "    ys = nodes[0:2*N].T[1]         # first column y positions\n",
    "    \n",
    "    # set y positions as the first column y positions in secure copy of nodes\n",
    "    nodes_copy[:, 1] = np.tile(ys, int(len(nodes_copy)/len(ys)))\n",
    "    return nodes_copy"
   ]
  },
  {
   "cell_type": "code",
   "execution_count": 5,
   "metadata": {},
   "outputs": [],
   "source": [
    "# creates a hexagonal network\n",
    "def create_network(Nrows):\n",
    "    \n",
    "    # set Ncols so that it closes to a square using aspect ratio of a hexagon 2:sqrt(3)\n",
    "    Ncols = int(np.round(Nrows * 2 / np.sqrt(3)))\n",
    "    \n",
    "    # check if Ny is odd (networkx doesn't allow Ny to be odd). Add 1 if Ny is larger and subtract 1 if smaller\n",
    "    if Ncols%2 == 1:\n",
    "        if Ncols > Nrows * 2 / np.sqrt(3):\n",
    "            Ncols = Ncols - 1\n",
    "        else:\n",
    "            Ncols = Ncols + 1\n",
    "            \n",
    "    G = nx.hexagonal_lattice_graph(Nrows, Ncols, periodic = True) # generate periodic hexagonal lattice\n",
    "    pos = nx.get_node_attributes(G, 'pos')                        # get lattice positions\n",
    "    nodes = np.array(list(pos.values()))                          # convert dictionary positions to numpy array\n",
    "    nodes_corrected = correct_drift(nodes, Nrows)                 # correct node drift\n",
    "    A = np.array(nx.adjacency_matrix(G).todense(), dtype = bool)  # find adjacency matrix\n",
    "    \n",
    "    # find unique bonds from adjacency matrix\n",
    "    node_inds = np.arange(len(nodes_corrected), dtype = int)                   \n",
    "    b1 = np.repeat(node_inds, 3)\n",
    "    b2 = (node_inds * np.ones((len(node_inds), len(node_inds)), dtype = int))[A] \n",
    "    bonds = np.unique(np.sort(np.vstack((b1, b2)).T, axis = 1), axis = 0)\n",
    "    \n",
    "    # find basis\n",
    "    Lx = np.max(nodes_corrected[:, 0]) + 1.0\n",
    "    Ly = np.max(nodes_corrected[:, 1]) + np.sqrt(3) / 2\n",
    "    basis = np.array([[Lx, 0], [0, Ly]])\n",
    "    \n",
    "    # return rigidpy framework\n",
    "    F = rp.framework(nodes_corrected, bonds, basis) \n",
    "    return F"
   ]
  },
  {
   "cell_type": "code",
   "execution_count": 6,
   "metadata": {},
   "outputs": [],
   "source": [
    "def add_disorder(F, d):\n",
    "    nodes = np.copy(F.coordinates)\n",
    "    random_angles = np.random.uniform(-np.pi, np.pi, len(nodes))\n",
    "    dx = np.cos(random_angles)\n",
    "    dy = np.sin(random_angles)\n",
    "    offsets = d * np.vstack((dx, dy)).T\n",
    "    nodes = nodes + offsets\n",
    "    F_dis = rp.framework(nodes, F.bonds, F.basis, k=np.diag(F.K))\n",
    "    return F_dis"
   ]
  },
  {
   "cell_type": "code",
   "execution_count": 7,
   "metadata": {},
   "outputs": [],
   "source": [
    "# plot network with bond forces corresponding to the bond color (red=tension, blue=compression) and bond width\n",
    "# corresponding to its spring constant k\n",
    "def plot(F):\n",
    "    ks = np.diag(F.K)\n",
    "    stresses = ks * (F.edgeLengths() - F.L0)\n",
    "    color_norm  = colors.Normalize(vmin=-np.max(np.abs(stresses)), vmax=np.max(np.abs(stresses)))\n",
    "    #color_norm  = colors.Normalize(vmin=-5e-5, vmax=5e-5)\n",
    "    scalar_color_map = cmx.ScalarMappable(norm=color_norm, cmap=\"coolwarm\")\n",
    "    \n",
    "    for i in range(len(F.bonds)):\n",
    "        [n1_ind, n2_ind] = F.bonds[i]\n",
    "        [n1x, n1y] = F.coordinates[n1_ind]\n",
    "        [n2x, n2y] = F.coordinates[n2_ind]\n",
    "        bond_length = np.sqrt((n1x - n2x)**2 + (n1y - n2y)**2)\n",
    "        if np.all(stresses == 0):\n",
    "            color = 'lightgray'\n",
    "        else:\n",
    "            color = scalar_color_map.to_rgba(stresses[i])\n",
    "        if bond_length < 0.5 * np.max([F.basis[0][0], F.basis[1][1]]):\n",
    "            #plt.plot([n1x, n2x], [n1y, n2y], color = color, linewidth = 2 * ks[i])\n",
    "            plt.plot([n1x, n2x], [n1y, n2y], color = color, linewidth = 2)\n",
    "\n",
    "    plt.axis('equal')\n",
    "    plt.axis('off')"
   ]
  },
  {
   "cell_type": "code",
   "execution_count": 8,
   "metadata": {},
   "outputs": [],
   "source": [
    "# energy minimize network\n",
    "def energy_minimize(F):\n",
    "    \n",
    "    # create a configuration for energy minimization functions\n",
    "    config = rp.configuration(F.coordinates, F.bonds, F.basis, np.diag(F.K))\n",
    "    \n",
    "    # minimize using config forces and hessian function with framework rest lengths\n",
    "    # and chosen tolerance\n",
    "    result = minimize(fun=config.energy, \n",
    "                      x0=config.x0, \n",
    "                      args=(F.L0, F.L0),\n",
    "                      method=\"Newton-CG\",\n",
    "                      jac=config.forces,\n",
    "                      hess=config.hessian,\n",
    "                      tol = 1e-20)\n",
    "\n",
    "    relaxed_coordinates = result.x.reshape(F.coordinates.shape)\n",
    "    F_relaxed = rp.framework(relaxed_coordinates, F.bonds, F.basis, k=np.diag(F.K), restLengths=F.L0)\n",
    "    return F_relaxed"
   ]
  },
  {
   "cell_type": "code",
   "execution_count": 9,
   "metadata": {},
   "outputs": [],
   "source": [
    "# find center point of each bond\n",
    "def bond_locations(F):\n",
    "    nis = F.bonds.T[0]\n",
    "    nis_pos = F.coordinates[nis]\n",
    "    njs_pos = nis_pos - F.dr\n",
    "    return (nis_pos + njs_pos) / 2"
   ]
  },
  {
   "cell_type": "code",
   "execution_count": 10,
   "metadata": {},
   "outputs": [],
   "source": [
    "# prestresses the top area_percentage of bonds at a strain of eps_p and the non prestrained bonds are given \n",
    "# spring constant k_weak while prestrained bonds are kept at a spring constant of 1\n",
    "def partial_prestress(Fd0, F, area_percentage, eps_p, k_weak = 1):\n",
    "    \n",
    "    # mask of bonds that will be prestrained\n",
    "    bond_locs = bond_locations(Fd0)\n",
    "    prestrain_bond_mask = np.logical_or(bond_locs[:, 1] >= area_percentage * Fd0.basis[1][1], bond_locs[:, 1] < 0)\n",
    "    \n",
    "    # weaken bonds that are not being prestrained\n",
    "    ks = np.ones(len(F.bonds))\n",
    "    ks[np.logical_not(prestrain_bond_mask)] = k_weak\n",
    "    \n",
    "    # prestrain bonds in the prestrain bond_mask\n",
    "    prestrains = np.zeros(len(F.bonds))\n",
    "    prestrains[prestrain_bond_mask] = eps_p\n",
    "    prestrained_L0s = F.edgeLengths() / (1 + prestrains)\n",
    "    \n",
    "    # create prestrained network and energy minimize\n",
    "    F_prestrained = rp.framework(F.coordinates, F.bonds, F.basis, k=ks, restLengths = prestrained_L0s)\n",
    "    F_prestrained_minimized = energy_minimize(F_prestrained)\n",
    "    \n",
    "    return F_prestrained_minimized"
   ]
  },
  {
   "cell_type": "code",
   "execution_count": 11,
   "metadata": {},
   "outputs": [],
   "source": [
    "def lowest_eig(F):\n",
    "    return F.eigenSpace()[0][2]"
   ]
  },
  {
   "cell_type": "code",
   "execution_count": 12,
   "metadata": {},
   "outputs": [
    {
     "data": {
      "text/plain": [
       "\"\\n#Nxs = [22, 25, 28]\\nWT_d = 0.0875\\nd_intermediate = 0.123\\nEcad_d = 0.158\\nd_large = 0.316\\n\\nF25 = create_network(25)\\n\\nsample_num = 10\\n\\nfor i in range(sample_num):\\n    F25_WT = add_disorder(F25, WT_d)\\n    F25_intermediate = add_disorder(F25, d_intermediate)\\n    F25_Ecad = add_disorder(F25, Ecad_d)\\n    F25_large = add_disorder(F25, d_large)\\n\\n    save(F25_WT, 'networks_no_prestress/N28_WT_ind' + str(i))\\n    save(F25_intermediate, 'networks_no_prestress/N28_int_ind' + str(i))\\n    save(F25_Ecad, 'networks_no_prestress/N28_Ecad_ind' + str(i))\\n    save(F25_large, 'networks_no_prestress/N28_large_ind' + str(i))\\n#\""
      ]
     },
     "execution_count": 12,
     "metadata": {},
     "output_type": "execute_result"
    }
   ],
   "source": [
    "# create networks\n",
    "'''\n",
    "#Nxs = [22, 25, 28]\n",
    "WT_d = 0.0875\n",
    "d_intermediate = 0.123\n",
    "Ecad_d = 0.158\n",
    "d_large = 0.316\n",
    "\n",
    "F25 = create_network(25)\n",
    "\n",
    "sample_num = 10\n",
    "\n",
    "for i in range(sample_num):\n",
    "    F25_WT = add_disorder(F25, WT_d)\n",
    "    F25_intermediate = add_disorder(F25, d_intermediate)\n",
    "    F25_Ecad = add_disorder(F25, Ecad_d)\n",
    "    F25_large = add_disorder(F25, d_large)\n",
    "\n",
    "    save(F25_WT, 'networks_no_prestress/N28_WT_ind' + str(i))\n",
    "    save(F25_intermediate, 'networks_no_prestress/N28_int_ind' + str(i))\n",
    "    save(F25_Ecad, 'networks_no_prestress/N28_Ecad_ind' + str(i))\n",
    "    save(F25_large, 'networks_no_prestress/N28_large_ind' + str(i))\n",
    "#'''"
   ]
  },
  {
   "cell_type": "code",
   "execution_count": 13,
   "metadata": {},
   "outputs": [
    {
     "data": {
      "text/plain": [
       "\"\\neps_ps_test = np.geomspace(1e-3, 3e-1)\\n\\nNx = 22\\nF0 = create_network(Nx)\\n\\nfor i in range(10):\\n    lowest_eigs_WT = []\\n    lowest_eigs_int = []\\n    lowest_eigs_Ecad = []\\n    lowest_eigs_large = []\\n    for j in range(len(eps_ps_test)):\\n        F_WT = load('networks_no_prestress/N' + str(Nx) + '_WT_ind' + str(i))\\n        F_int = load('networks_no_prestress/N' + str(Nx) + '_int_ind' + str(i))\\n        F_Ecad = load('networks_no_prestress/N' + str(Nx) + '_Ecad_ind' + str(i))\\n        F_large = load('networks_no_prestress/N' + str(Nx) + '_large_ind' + str(i))\\n        \\n        F_WT_p = partial_prestress(F0, F_WT, 0.5, eps_ps_test[j])\\n        F_int_p = partial_prestress(F0, F_int, 0.5, eps_ps_test[j])\\n        F_Ecad_p = partial_prestress(F0, F_Ecad, 0.5, eps_ps_test[j])\\n        F_large_p = partial_prestress(F0, F_large, 0.5, eps_ps_test[j])\\n        \\n        save(F_WT_p, 'networks/N' + str(Nx) + '_WT_ind' + str(i) + '_pind' + str(j))\\n        save(F_int_p, 'networks/N' + str(Nx) + '_int_ind' + str(i) + '_pind' + str(j))\\n        save(F_Ecad_p, 'networks/N' + str(Nx) + '_Ecad_ind' + str(i) + '_pind' + str(j))\\n        save(F_large_p, 'networks/N' + str(Nx) + '_large_ind' + str(i) + '_pind' + str(j))\\n        \\n        lowest_eigs_WT.append(lowest_eig(F_WT_p))\\n        lowest_eigs_int.append(lowest_eig(F_int_p))\\n        lowest_eigs_Ecad.append(lowest_eig(F_Ecad_p))\\n        lowest_eigs_large.append(lowest_eig(F_large_p))\\n        \\n    np.save('network_data/lowest_eigs_N' + str(Nx) + '_WT_ind' + str(i) + '.npy', lowest_eigs_WT)\\n    np.save('network_data/lowest_eigs_N' + str(Nx) + '_int_ind' + str(i) + '.npy', lowest_eigs_int)\\n    np.save('network_data/lowest_eigs_N' + str(Nx) + '_Ecad_ind' + str(i) + '.npy', lowest_eigs_Ecad)\\n    np.save('network_data/lowest_eigs_N' + str(Nx) + '_large_ind' + str(i) + '.npy', lowest_eigs_large)\\n\""
      ]
     },
     "execution_count": 13,
     "metadata": {},
     "output_type": "execute_result"
    }
   ],
   "source": [
    "'''\n",
    "eps_ps_test = np.geomspace(1e-3, 3e-1)\n",
    "\n",
    "Nx = 22\n",
    "F0 = create_network(Nx)\n",
    "\n",
    "for i in range(10):\n",
    "    lowest_eigs_WT = []\n",
    "    lowest_eigs_int = []\n",
    "    lowest_eigs_Ecad = []\n",
    "    lowest_eigs_large = []\n",
    "    for j in range(len(eps_ps_test)):\n",
    "        F_WT = load('networks_no_prestress/N' + str(Nx) + '_WT_ind' + str(i))\n",
    "        F_int = load('networks_no_prestress/N' + str(Nx) + '_int_ind' + str(i))\n",
    "        F_Ecad = load('networks_no_prestress/N' + str(Nx) + '_Ecad_ind' + str(i))\n",
    "        F_large = load('networks_no_prestress/N' + str(Nx) + '_large_ind' + str(i))\n",
    "        \n",
    "        F_WT_p = partial_prestress(F0, F_WT, 0.5, eps_ps_test[j])\n",
    "        F_int_p = partial_prestress(F0, F_int, 0.5, eps_ps_test[j])\n",
    "        F_Ecad_p = partial_prestress(F0, F_Ecad, 0.5, eps_ps_test[j])\n",
    "        F_large_p = partial_prestress(F0, F_large, 0.5, eps_ps_test[j])\n",
    "        \n",
    "        save(F_WT_p, 'networks/N' + str(Nx) + '_WT_ind' + str(i) + '_pind' + str(j))\n",
    "        save(F_int_p, 'networks/N' + str(Nx) + '_int_ind' + str(i) + '_pind' + str(j))\n",
    "        save(F_Ecad_p, 'networks/N' + str(Nx) + '_Ecad_ind' + str(i) + '_pind' + str(j))\n",
    "        save(F_large_p, 'networks/N' + str(Nx) + '_large_ind' + str(i) + '_pind' + str(j))\n",
    "        \n",
    "        lowest_eigs_WT.append(lowest_eig(F_WT_p))\n",
    "        lowest_eigs_int.append(lowest_eig(F_int_p))\n",
    "        lowest_eigs_Ecad.append(lowest_eig(F_Ecad_p))\n",
    "        lowest_eigs_large.append(lowest_eig(F_large_p))\n",
    "        \n",
    "    np.save('network_data/lowest_eigs_N' + str(Nx) + '_WT_ind' + str(i) + '.npy', lowest_eigs_WT)\n",
    "    np.save('network_data/lowest_eigs_N' + str(Nx) + '_int_ind' + str(i) + '.npy', lowest_eigs_int)\n",
    "    np.save('network_data/lowest_eigs_N' + str(Nx) + '_Ecad_ind' + str(i) + '.npy', lowest_eigs_Ecad)\n",
    "    np.save('network_data/lowest_eigs_N' + str(Nx) + '_large_ind' + str(i) + '.npy', lowest_eigs_large)\n",
    "'''"
   ]
  },
  {
   "cell_type": "markdown",
   "metadata": {},
   "source": [
    "### k0 test"
   ]
  },
  {
   "cell_type": "code",
   "execution_count": 14,
   "metadata": {},
   "outputs": [
    {
     "data": {
      "text/plain": [
       "\"\\nNx = 25\\nnet_ind = 0\\nF_WT = load('networks_no_prestress/N' + str(Nx) + '_WT_ind' + str(net_ind))\\nF_copy_Klarge = rp.framework(F_WT.coordinates, F_WT.bonds, F_WT.basis, k = 100 * np.ones(len(F_WT.bonds)))\\nF0 = create_network(Nx)\\n\\neps_ps_test = np.geomspace(1e-3, 3e-1)\\nlowest_eigs = []\\nfor i in range(len(eps_ps_test)):\\n    F_WT_p = partial_prestress(F0, F_copy_Klarge, 0.5, eps_ps_test[i])\\n    save(F_WT_p, 'K0_test_networks/N' + str(Nx) + '_WT_ind' + str(net_ind) + '_pind' + str(i))\\n    lowest_eigs.append(lowest_eig(F_WT_p))\\nnp.save('K0_test_data/lowest_eigs_N' + str(Nx) + '_WT_ind' + str(net_ind) + '.npy', lowest_eigs)\\n#\""
      ]
     },
     "execution_count": 14,
     "metadata": {},
     "output_type": "execute_result"
    }
   ],
   "source": [
    "'''\n",
    "Nx = 25\n",
    "net_ind = 0\n",
    "F_WT = load('networks_no_prestress/N' + str(Nx) + '_WT_ind' + str(net_ind))\n",
    "F_copy_Klarge = rp.framework(F_WT.coordinates, F_WT.bonds, F_WT.basis, k = 100 * np.ones(len(F_WT.bonds)))\n",
    "F0 = create_network(Nx)\n",
    "\n",
    "eps_ps_test = np.geomspace(1e-3, 3e-1)\n",
    "lowest_eigs = []\n",
    "for i in range(len(eps_ps_test)):\n",
    "    F_WT_p = partial_prestress(F0, F_copy_Klarge, 0.5, eps_ps_test[i])\n",
    "    save(F_WT_p, 'K0_test_networks/N' + str(Nx) + '_WT_ind' + str(net_ind) + '_pind' + str(i))\n",
    "    lowest_eigs.append(lowest_eig(F_WT_p))\n",
    "np.save('K0_test_data/lowest_eigs_N' + str(Nx) + '_WT_ind' + str(net_ind) + '.npy', lowest_eigs)\n",
    "#'''"
   ]
  },
  {
   "cell_type": "markdown",
   "metadata": {},
   "source": [
    "### k test"
   ]
  },
  {
   "cell_type": "code",
   "execution_count": 15,
   "metadata": {},
   "outputs": [
    {
     "data": {
      "text/plain": [
       "\"\\nNx = 25\\nnet_ind = 0\\nF_WT = load('networks_no_prestress/N' + str(Nx) + '_WT_ind' + str(net_ind))\\nF0 = create_network(Nx)\\n\\nks = np.array([1e-1, 1e-2, 1e-3])\\neps_ps_test = np.geomspace(1e-3, 3e-1)\\n\\nfor i in range(len(ks)):\\n    lowest_eigs = []\\n    for j in range(len(eps_ps_test)):\\n        F_WT_p = partial_prestress(F0, F_WT, 0.5, eps_ps_test[j], k_weak = ks[i])\\n        save(F_WT_p, 'K_test_networks/N' + str(Nx) + '_WT_ind' + str(net_ind) + '_kind' + str(i) + '_pind' + str(j))\\n        lowest_eigs.append(lowest_eig(F_WT_p))\\n    np.save('K_test_data/lowest_eigs_N' + str(Nx) + '_WT_ind' + str(net_ind) + '_kind' + str(i) + '.npy', lowest_eigs)\\n#\""
      ]
     },
     "execution_count": 15,
     "metadata": {},
     "output_type": "execute_result"
    }
   ],
   "source": [
    "'''\n",
    "Nx = 25\n",
    "net_ind = 0\n",
    "F_WT = load('networks_no_prestress/N' + str(Nx) + '_WT_ind' + str(net_ind))\n",
    "F0 = create_network(Nx)\n",
    "\n",
    "ks = np.array([1e-1, 1e-2, 1e-3])\n",
    "eps_ps_test = np.geomspace(1e-3, 3e-1)\n",
    "\n",
    "for i in range(len(ks)):\n",
    "    lowest_eigs = []\n",
    "    for j in range(len(eps_ps_test)):\n",
    "        F_WT_p = partial_prestress(F0, F_WT, 0.5, eps_ps_test[j], k_weak = ks[i])\n",
    "        save(F_WT_p, 'K_test_networks/N' + str(Nx) + '_WT_ind' + str(net_ind) + '_kind' + str(i) + '_pind' + str(j))\n",
    "        lowest_eigs.append(lowest_eig(F_WT_p))\n",
    "    np.save('K_test_data/lowest_eigs_N' + str(Nx) + '_WT_ind' + str(net_ind) + '_kind' + str(i) + '.npy', lowest_eigs)\n",
    "#'''"
   ]
  },
  {
   "cell_type": "code",
   "execution_count": 29,
   "metadata": {},
   "outputs": [],
   "source": [
    "# calculates the prestrain at which the system rigidifies\n",
    "def calculate_eps_p_star(eps_ps_test, data, cut_off_prestrain):\n",
    "    fit_inds = np.arange(len(data))[np.logical_and(data > 0, eps_ps_test < cut_off_prestrain)]\n",
    "    data_to_fit = data[fit_inds]\n",
    "    eps_ps_test_to_fit = eps_ps_test[fit_inds]\n",
    "\n",
    "    popt, pcov = curve_fit(linear_fit, eps_ps_test_to_fit, data_to_fit)\n",
    "    m = popt[0]\n",
    "    y0 = popt[1]\n",
    "    return -y0 / m"
   ]
  },
  {
   "cell_type": "code",
   "execution_count": 19,
   "metadata": {},
   "outputs": [
    {
     "name": "stderr",
     "output_type": "stream",
     "text": [
      "<ipython-input-19-e4c203166ca0>:23: RuntimeWarning: invalid value encountered in sqrt\n",
      "  WT_means = np.mean(np.sqrt(WT_all), axis = 1)\n",
      "<ipython-input-19-e4c203166ca0>:24: RuntimeWarning: invalid value encountered in sqrt\n",
      "  int_means = np.mean(np.sqrt(int_all), axis = 1)\n",
      "<ipython-input-19-e4c203166ca0>:25: RuntimeWarning: invalid value encountered in sqrt\n",
      "  Ecad_means = np.mean(np.sqrt(Ecad_all), axis = 1)\n",
      "<ipython-input-19-e4c203166ca0>:26: RuntimeWarning: invalid value encountered in sqrt\n",
      "  large_means = np.mean(np.sqrt(large_all), axis = 1)\n",
      "<ipython-input-19-e4c203166ca0>:28: RuntimeWarning: invalid value encountered in sqrt\n",
      "  WT_stds = np.std(np.sqrt(WT_all), axis = 1)\n",
      "<ipython-input-19-e4c203166ca0>:29: RuntimeWarning: invalid value encountered in sqrt\n",
      "  int_stds = np.std(np.sqrt(int_all), axis = 1)\n",
      "<ipython-input-19-e4c203166ca0>:30: RuntimeWarning: invalid value encountered in sqrt\n",
      "  Ecad_stds = np.std(np.sqrt(Ecad_all), axis = 1)\n",
      "<ipython-input-19-e4c203166ca0>:31: RuntimeWarning: invalid value encountered in sqrt\n",
      "  large_stds = np.std(np.sqrt(large_all), axis = 1)\n"
     ]
    },
    {
     "data": {
      "text/plain": [
       "<matplotlib.legend.Legend at 0x118909310>"
      ]
     },
     "execution_count": 19,
     "metadata": {},
     "output_type": "execute_result"
    },
    {
     "data": {
      "image/png": "[encoded data removed]",
      "text/plain": [
       "<Figure size 576x432 with 2 Axes>"
      ]
     },
     "metadata": {
      "needs_background": "light"
     },
     "output_type": "display_data"
    }
   ],
   "source": [
    "eps_ps_test = np.geomspace(1e-3, 3e-1)\n",
    "\n",
    "WT_d = 0.0875\n",
    "d_intermediate = 0.123\n",
    "Ecad_d = 0.158\n",
    "d_large = 0.316\n",
    "\n",
    "fig, ax = plt.subplots(figsize = (8, 6))\n",
    "\n",
    "Nxs = [22, 25, 28]\n",
    "WT_all = np.zeros((len(Nxs), 10, len(eps_ps_test)))\n",
    "int_all = np.zeros((len(Nxs), 10, len(eps_ps_test)))\n",
    "Ecad_all = np.zeros((len(Nxs), 10, len(eps_ps_test)))\n",
    "large_all = np.zeros((len(Nxs), 10, len(eps_ps_test)))\n",
    "\n",
    "for i in range(len(Nxs)):\n",
    "    for j in range(10):\n",
    "        WT_all[i][j] = np.load('network_data/lowest_eigs_N' + str(Nxs[i]) + '_WT_ind' + str(j) + '.npy')\n",
    "        int_all[i][j] = np.load('network_data/lowest_eigs_N' + str(Nxs[i]) + '_int_ind' + str(j) + '.npy')\n",
    "        Ecad_all[i][j] = np.load('network_data/lowest_eigs_N' + str(Nxs[i]) + '_Ecad_ind' + str(j) + '.npy')\n",
    "        large_all[i][j] = np.load('network_data/lowest_eigs_N' + str(Nxs[i]) + '_large_ind' + str(j) + '.npy')\n",
    "    \n",
    "WT_means = np.mean(np.sqrt(WT_all), axis = 1)\n",
    "int_means = np.mean(np.sqrt(int_all), axis = 1)\n",
    "Ecad_means = np.mean(np.sqrt(Ecad_all), axis = 1)\n",
    "large_means = np.mean(np.sqrt(large_all), axis = 1)\n",
    "\n",
    "WT_stds = np.std(np.sqrt(WT_all), axis = 1)\n",
    "int_stds = np.std(np.sqrt(int_all), axis = 1)\n",
    "Ecad_stds = np.std(np.sqrt(Ecad_all), axis = 1)\n",
    "large_stds = np.std(np.sqrt(large_all), axis = 1)\n",
    "\n",
    "Nx_ind = 1\n",
    "\n",
    "plot_colors = ['tab:blue', 'tab:orange', 'tab:green', 'tab:red']\n",
    "\n",
    "ax.errorbar(eps_ps_test, WT_means[Nx_ind], WT_stds[Nx_ind], color = plot_colors[0], marker = '.', capsize = 4, linestyle = 'none', label = 'd = ' + str(WT_d) + ' (WT)')\n",
    "ax.errorbar(eps_ps_test, int_means[Nx_ind], int_stds[Nx_ind], color = plot_colors[1], marker = '.', capsize = 4, linestyle = 'none', label = 'd = ' + str(d_intermediate))\n",
    "ax.errorbar(eps_ps_test, Ecad_means[Nx_ind], Ecad_stds[Nx_ind], color = plot_colors[2], marker = '.', capsize = 4, linestyle = 'none', label = 'd = ' + str(Ecad_d) + ' (Ecad RNAi)')\n",
    "ax.errorbar(eps_ps_test, large_means[Nx_ind], large_stds[Nx_ind], color = plot_colors[3], marker = '.', capsize = 4, linestyle = 'none', label = 'd = ' + str(d_large))\n",
    "\n",
    "ax.set_xscale('log')\n",
    "ax.set_yscale('log')\n",
    "\n",
    "ax.set_xlim(1e-3, 1e0)\n",
    "ax.set_ylim(5e-5, 1e-1)\n",
    "\n",
    "plt.xlabel('$\\epsilon_{app}$', fontsize = 12)\n",
    "plt.ylabel('$MIN(\\omega_i)$', fontsize = 12)\n",
    "plt.legend(loc = 3, fontsize = 12)\n",
    "\n",
    "\n",
    "ax_in = fig.add_axes([0.62, 0.24, 0.25, 0.25])\n",
    "\n",
    "shapes = ['o', 's', '^']\n",
    "\n",
    "cut_off_prestrains = [0.05, 0.05, 0.06, 0.1]\n",
    "\n",
    "for i in range(len(Nxs)):\n",
    "    eps_stars_WT = np.zeros(10)\n",
    "    eps_stars_int = np.zeros(10)\n",
    "    eps_stars_Ecad = np.zeros(10)\n",
    "    eps_stars_large = np.zeros(10)\n",
    "    for j in range(10):\n",
    "        dataWT = np.load('network_data/lowest_eigs_N' + str(Nxs[i]) + '_WT_ind' + str(j) + '.npy')\n",
    "        dataint = np.load('network_data/lowest_eigs_N' + str(Nxs[i]) + '_int_ind' + str(j) + '.npy')\n",
    "        dataEcad = np.load('network_data/lowest_eigs_N' + str(Nxs[i]) + '_Ecad_ind' + str(j) + '.npy')\n",
    "        datalarge = np.load('network_data/lowest_eigs_N' + str(Nxs[i]) + '_large_ind' + str(j) + '.npy')\n",
    "        eps_stars_WT[j] = calculate_eps_p_star(eps_ps_test, dataWT, cut_off_prestrains[0])\n",
    "        eps_stars_int[j] = calculate_eps_p_star(eps_ps_test, dataint, cut_off_prestrains[1])\n",
    "        eps_stars_Ecad[j] = calculate_eps_p_star(eps_ps_test, dataEcad, cut_off_prestrains[2])\n",
    "        eps_stars_large[j] = calculate_eps_p_star(eps_ps_test, datalarge, cut_off_prestrains[3])\n",
    "        \n",
    "    WT_mean = np.mean(eps_stars_WT)\n",
    "    int_mean = np.mean(eps_stars_int)\n",
    "    Ecad_mean = np.mean(eps_stars_Ecad)\n",
    "    large_mean = np.mean(eps_stars_large)\n",
    "    \n",
    "    WT_std = np.std(eps_stars_WT)\n",
    "    int_std = np.std(eps_stars_int)\n",
    "    Ecad_std = np.std(eps_stars_Ecad)\n",
    "    large_std = np.std(eps_stars_large)\n",
    "        \n",
    "    ax_in.errorbar([WT_d], [WT_mean], [WT_std], color = plot_colors[0], marker = shapes[i], label = 'Ns = ' + str(Nxs[i]))\n",
    "    ax_in.errorbar([d_intermediate], [int_mean], [int_std], color = plot_colors[1], marker = shapes[i])\n",
    "    ax_in.errorbar([Ecad_d], [Ecad_mean], [Ecad_std], color = plot_colors[2],  marker = shapes[i])\n",
    "    ax_in.errorbar([d_large], [large_mean], [large_std], color = plot_colors[3],  marker = shapes[i])\n",
    "\n",
    "'''\n",
    "for i in range(len(Nxs)):\n",
    "    WT_jump = (eps_ps_test[WT_means[i] > 1e-8])[0]\n",
    "    int_jump = (eps_ps_test[int_means[i] > 1e-8])[0]\n",
    "    Ecad_jump = (eps_ps_test[Ecad_means[i] > 1e-8])[0]\n",
    "    large_jump = (eps_ps_test[large_means[i] > 1e-8])[0]\n",
    "\n",
    "    ax_in.scatter([WT_d], [WT_jump], edgecolor = plot_colors[0], facecolor = 'none', marker = shapes[i], label = 'Ns = ' + str(Nxs[i]))\n",
    "    ax_in.scatter([d_intermediate], [int_jump], edgecolor = plot_colors[1], facecolor = 'none', marker = shapes[i])\n",
    "    ax_in.scatter([Ecad_d], [Ecad_jump], edgecolor = plot_colors[2], facecolor = 'none', marker = shapes[i])\n",
    "    ax_in.scatter([d_large], [large_jump], edgecolor = plot_colors[3], facecolor = 'none', marker = shapes[i])\n",
    "    \n",
    "'''\n",
    "    \n",
    "xs = np.array([1.2e-1, 2.2e-1])\n",
    "ax_in.plot(xs, 0.7 * xs**2, color = 'black')\n",
    "ax_in.text(1.4e-1, 2e-2, '2', fontsize = 12)\n",
    "\n",
    "ax_in.set_xticks([1e-1, 3e-1])\n",
    "ax_in.set_xscale('log')\n",
    "ax_in.set_yscale('log')\n",
    "\n",
    "ax_in.set_xlabel('disorder (d)', fontsize = 12)\n",
    "ax_in.set_ylabel('$\\epsilon_{app}^*$', fontsize = 12)\n",
    "\n",
    "ax_in.legend(bbox_to_anchor = (0.85, 1.7), fontsize = 12)\n",
    "#plt.savefig('varying_d_graph_freq.pdf')"
   ]
  },
  {
   "cell_type": "code",
   "execution_count": 20,
   "metadata": {},
   "outputs": [
    {
     "name": "stderr",
     "output_type": "stream",
     "text": [
      "<ipython-input-20-9db8baf0c1b5>:8: RuntimeWarning: invalid value encountered in sqrt\n",
      "  ax.scatter(eps_ps_test, np.sqrt(np.load('network_data/lowest_eigs_N25_WT_ind0.npy')),\n",
      "<ipython-input-20-9db8baf0c1b5>:10: RuntimeWarning: invalid value encountered in sqrt\n",
      "  ax.scatter(eps_ps_test, np.sqrt(np.load('K_test_data/lowest_eigs_N25_WT_ind0_kind0.npy')),\n",
      "<ipython-input-20-9db8baf0c1b5>:12: RuntimeWarning: invalid value encountered in sqrt\n",
      "  ax.scatter(eps_ps_test, np.sqrt(np.load('K_test_data/lowest_eigs_N25_WT_ind0_kind1.npy')),\n",
      "<ipython-input-20-9db8baf0c1b5>:14: RuntimeWarning: invalid value encountered in sqrt\n",
      "  ax.scatter(eps_ps_test, np.sqrt(np.load('K_test_data/lowest_eigs_N25_WT_ind0_kind2.npy')),\n"
     ]
    },
    {
     "data": {
      "image/png": "[encoded data removed]",
      "text/plain": [
       "<Figure size 576x432 with 1 Axes>"
      ]
     },
     "metadata": {
      "needs_background": "light"
     },
     "output_type": "display_data"
    }
   ],
   "source": [
    "WT_d = 0.0875\n",
    "d_intermediate = 0.123\n",
    "Ecad_d = 0.158\n",
    "d_large = 0.316\n",
    "\n",
    "fig, ax = plt.subplots(figsize = (8, 6))\n",
    "\n",
    "ax.scatter(eps_ps_test, np.sqrt(np.load('network_data/lowest_eigs_N25_WT_ind0.npy')), \n",
    "           label = '$k_w = 1$', color = 'tab:blue')\n",
    "ax.scatter(eps_ps_test, np.sqrt(np.load('K_test_data/lowest_eigs_N25_WT_ind0_kind0.npy')), \n",
    "           label = '$k_w = 10^{-1}$', color = 'tab:blue', alpha = 0.75, marker = 's')\n",
    "ax.scatter(eps_ps_test, np.sqrt(np.load('K_test_data/lowest_eigs_N25_WT_ind0_kind1.npy')), \n",
    "           label = '$k_w = 10^{-2}$', color = 'tab:blue', alpha = 0.5, marker = '^')\n",
    "ax.scatter(eps_ps_test, np.sqrt(np.load('K_test_data/lowest_eigs_N25_WT_ind0_kind2.npy')), \n",
    "           label = '$k_w = 10^{-3}$', color = 'tab:blue', alpha = 0.25, marker = 'D')\n",
    "\n",
    "ax.set_xscale('log')\n",
    "ax.set_yscale('log')\n",
    "\n",
    "ax.set_xlabel('$\\epsilon_{app}$', fontsize = 12)\n",
    "ax.set_ylabel('$MIN(\\omega_i)$', fontsize = 12)\n",
    "ax.legend(fontsize = 12)\n",
    "\n",
    "ax.set_ylim(1e-6, 1e-1)\n",
    "plt.savefig('varying_k_omega_v2.pdf')"
   ]
  },
  {
   "cell_type": "markdown",
   "metadata": {},
   "source": [
    "### Full prestress"
   ]
  },
  {
   "cell_type": "code",
   "execution_count": 21,
   "metadata": {},
   "outputs": [],
   "source": [
    "def full_prestress(F, eps_p):\n",
    "    \n",
    "    prestrained_L0s = F.edgeLengths() / (1 + eps_p)\n",
    "    \n",
    "    # create prestrained network and energy minimize\n",
    "    F_prestrained = rp.framework(F.coordinates, F.bonds, F.basis, k=np.diag(F.K), restLengths = prestrained_L0s)\n",
    "    F_prestrained_minimized = energy_minimize(F_prestrained)\n",
    "    \n",
    "    return F_prestrained_minimized"
   ]
  },
  {
   "cell_type": "code",
   "execution_count": 22,
   "metadata": {},
   "outputs": [
    {
     "data": {
      "text/plain": [
       "\"\\nF0 = create_network(25)\\n\\nWT_d = 0.0875\\nd_intermediate = 0.123\\nEcad_d = 0.158\\nd_large = 0.316\\n\\nprestrains = np.geomspace(1e-3, 1e-1)\\nsample_num = 10\\n\\nlowest_eigs_WT = np.zeros((sample_num, len(prestrains)))\\nlowest_eigs_int = np.zeros((sample_num, len(prestrains)))\\nlowest_eigs_Ecad = np.zeros((sample_num, len(prestrains)))\\nlowest_eigs_large = np.zeros((sample_num, len(prestrains)))\\n\\nfor i in range(sample_num):\\n    FWT = add_disorder(F0, WT_d)\\n    Fint = add_disorder(F0, d_intermediate)\\n    FEcad = add_disorder(F0, Ecad_d)\\n    Flarge = add_disorder(F0, d_large)\\n    for j in range(len(prestrains)):\\n        Fp_WT = full_prestress(FWT, prestrains[j])\\n        Fp_int = full_prestress(Fint, prestrains[j])\\n        Fp_Ecad = full_prestress(FEcad, prestrains[j])\\n        Fp_large = full_prestress(Flarge, prestrains[j])\\n        \\n        lowest_eigs_WT[i][j] = lowest_eig(Fp_WT)\\n        lowest_eigs_int[i][j] = lowest_eig(Fp_int)\\n        lowest_eigs_Ecad[i][j] = lowest_eig(Fp_Ecad)\\n        lowest_eigs_large[i][j] = lowest_eig(Fp_large)\\n        \\n        save(Fp_WT, 'full_prestress_all_ds/net_WT_ind' + str(i) + '_pind' + str(j))\\n        save(Fp_int, 'full_prestress_all_ds/net_int_ind' + str(i) + '_pind' + str(j))\\n        save(Fp_Ecad, 'full_prestress_all_ds/net_Ecad_ind' + str(i) + '_pind' + str(j))\\n        save(Fp_large, 'full_prestress_all_ds/net_large_ind' + str(i) + '_pind' + str(j))\\n        \\nnp.save('full_prestress_all_ds/lowest_eigs_WT', lowest_eigs_WT)\\nnp.save('full_prestress_all_ds/lowest_eigs_int', lowest_eigs_int)\\nnp.save('full_prestress_all_ds/lowest_eigs_Ecad', lowest_eigs_Ecad)\\nnp.save('full_prestress_all_ds/lowest_eigs_large', lowest_eigs_large)\\n\""
      ]
     },
     "execution_count": 22,
     "metadata": {},
     "output_type": "execute_result"
    }
   ],
   "source": [
    "'''\n",
    "F0 = create_network(25)\n",
    "\n",
    "WT_d = 0.0875\n",
    "d_intermediate = 0.123\n",
    "Ecad_d = 0.158\n",
    "d_large = 0.316\n",
    "\n",
    "prestrains = np.geomspace(1e-3, 1e-1)\n",
    "sample_num = 10\n",
    "\n",
    "lowest_eigs_WT = np.zeros((sample_num, len(prestrains)))\n",
    "lowest_eigs_int = np.zeros((sample_num, len(prestrains)))\n",
    "lowest_eigs_Ecad = np.zeros((sample_num, len(prestrains)))\n",
    "lowest_eigs_large = np.zeros((sample_num, len(prestrains)))\n",
    "\n",
    "for i in range(sample_num):\n",
    "    FWT = add_disorder(F0, WT_d)\n",
    "    Fint = add_disorder(F0, d_intermediate)\n",
    "    FEcad = add_disorder(F0, Ecad_d)\n",
    "    Flarge = add_disorder(F0, d_large)\n",
    "    for j in range(len(prestrains)):\n",
    "        Fp_WT = full_prestress(FWT, prestrains[j])\n",
    "        Fp_int = full_prestress(Fint, prestrains[j])\n",
    "        Fp_Ecad = full_prestress(FEcad, prestrains[j])\n",
    "        Fp_large = full_prestress(Flarge, prestrains[j])\n",
    "        \n",
    "        lowest_eigs_WT[i][j] = lowest_eig(Fp_WT)\n",
    "        lowest_eigs_int[i][j] = lowest_eig(Fp_int)\n",
    "        lowest_eigs_Ecad[i][j] = lowest_eig(Fp_Ecad)\n",
    "        lowest_eigs_large[i][j] = lowest_eig(Fp_large)\n",
    "        \n",
    "        save(Fp_WT, 'full_prestress_all_ds/net_WT_ind' + str(i) + '_pind' + str(j))\n",
    "        save(Fp_int, 'full_prestress_all_ds/net_int_ind' + str(i) + '_pind' + str(j))\n",
    "        save(Fp_Ecad, 'full_prestress_all_ds/net_Ecad_ind' + str(i) + '_pind' + str(j))\n",
    "        save(Fp_large, 'full_prestress_all_ds/net_large_ind' + str(i) + '_pind' + str(j))\n",
    "        \n",
    "np.save('full_prestress_all_ds/lowest_eigs_WT', lowest_eigs_WT)\n",
    "np.save('full_prestress_all_ds/lowest_eigs_int', lowest_eigs_int)\n",
    "np.save('full_prestress_all_ds/lowest_eigs_Ecad', lowest_eigs_Ecad)\n",
    "np.save('full_prestress_all_ds/lowest_eigs_large', lowest_eigs_large)\n",
    "'''"
   ]
  },
  {
   "cell_type": "code",
   "execution_count": 25,
   "metadata": {},
   "outputs": [],
   "source": [
    "F0 = create_network(25)\n",
    "prestrains = np.geomspace(1e-3, 1e-1)\n",
    "sample_num = 10\n",
    "ds = np.zeros((sample_num, len(prestrains), len(F0.coordinates)))\n",
    "\n",
    "for i in range(sample_num):\n",
    "    for j in range(len(prestrains)):\n",
    "        F = load('full_prestress_all_ds/net_WT_ind' + str(i) + '_pind' + str(j))\n",
    "        dx = F.coordinates.T[0] - F0.coordinates.T[0]\n",
    "        dy = F.coordinates.T[1] - F0.coordinates.T[1]\n",
    "        d = np.sqrt(dx**2 + dy**2)\n",
    "        ds[i][j] = d"
   ]
  },
  {
   "cell_type": "code",
   "execution_count": 26,
   "metadata": {},
   "outputs": [
    {
     "data": {
      "image/png": "[encoded data removed]",
      "text/plain": [
       "<Figure size 432x288 with 1 Axes>"
      ]
     },
     "metadata": {
      "needs_background": "light"
     },
     "output_type": "display_data"
    }
   ],
   "source": [
    "for i in range(sample_num):\n",
    "    plt.scatter(prestrains, np.mean(ds[i], axis = 1))\n",
    "plt.xscale('log')"
   ]
  },
  {
   "cell_type": "code",
   "execution_count": 27,
   "metadata": {},
   "outputs": [
    {
     "data": {
      "text/plain": [
       "Text(0, 0.5, 'disorder')"
      ]
     },
     "execution_count": 27,
     "metadata": {},
     "output_type": "execute_result"
    },
    {
     "data": {
      "image/png": "[encoded data removed]",
      "text/plain": [
       "<Figure size 432x288 with 1 Axes>"
      ]
     },
     "metadata": {
      "needs_background": "light"
     },
     "output_type": "display_data"
    }
   ],
   "source": [
    "plt.scatter(prestrains, np.mean(ds, axis = (0, 2)))\n",
    "plt.xscale('log')\n",
    "#plt.yscale('log')\n",
    "\n",
    "plt.xlabel('$\\epsilon_{app}$', fontsize = 12)\n",
    "plt.ylabel('disorder', fontsize = 12)\n",
    "\n",
    "#plt.savefig('disorder_vs_epsapp.pdf')"
   ]
  },
  {
   "cell_type": "code",
   "execution_count": 28,
   "metadata": {},
   "outputs": [
    {
     "name": "stderr",
     "output_type": "stream",
     "text": [
      "<ipython-input-28-33dc0b43eebd>:6: RuntimeWarning: invalid value encountered in sqrt\n",
      "  plt.errorbar(prestrains, np.mean(np.sqrt(lowest_eigs_WT_load), axis = 0), \\\n",
      "<ipython-input-28-33dc0b43eebd>:7: RuntimeWarning: invalid value encountered in sqrt\n",
      "  np.std(np.sqrt(lowest_eigs_WT_load), axis = 0), linestyle = 'none', capsize = 4, label = 'd = ' + str(WT_d) + '(WT)', marker = '.')\n"
     ]
    },
    {
     "data": {
      "text/plain": [
       "<matplotlib.legend.Legend at 0x1255350a0>"
      ]
     },
     "execution_count": 28,
     "metadata": {},
     "output_type": "execute_result"
    },
    {
     "data": {
      "image/png": "[encoded data removed]",
      "text/plain": [
       "<Figure size 432x288 with 1 Axes>"
      ]
     },
     "metadata": {
      "needs_background": "light"
     },
     "output_type": "display_data"
    }
   ],
   "source": [
    "lowest_eigs_WT_load = np.load('full_prestress_all_ds/lowest_eigs_WT.npy')\n",
    "lowest_eigs_int_load = np.load('full_prestress_all_ds/lowest_eigs_int.npy')\n",
    "lowest_eigs_Ecad_load = np.load('full_prestress_all_ds/lowest_eigs_Ecad.npy')\n",
    "lowest_eigs_large_load = np.load('full_prestress_all_ds/lowest_eigs_large.npy')\n",
    "\n",
    "plt.errorbar(prestrains, np.mean(np.sqrt(lowest_eigs_WT_load), axis = 0), \\\n",
    "             np.std(np.sqrt(lowest_eigs_WT_load), axis = 0), linestyle = 'none', capsize = 4, label = 'd = ' + str(WT_d) + '(WT)', marker = '.')\n",
    "#plt.errorbar(prestrains, np.mean(np.sqrt(lowest_eigs_int_load), axis = 0), \\\n",
    "             #np.std(np.sqrt(lowest_eigs_int_load), axis = 0), linestyle = 'none', capsize = 4, label = 'd = ' + str(d_intermediate), marker = '.')\n",
    "#plt.errorbar(prestrains, np.mean(np.sqrt(lowest_eigs_Ecad_load), axis = 0), \\\n",
    "             #np.std(np.sqrt(lowest_eigs_Ecad_load), axis = 0), linestyle = 'none', capsize = 4, label = 'd = ' + str(Ecad_d), marker = '.')\n",
    "#plt.errorbar(prestrains, np.mean(np.sqrt(lowest_eigs_large_load), axis = 0), \\\n",
    "             #np.std(np.sqrt(lowest_eigs_large_load), axis = 0), linestyle = 'none', capsize = 4, label = 'd = ' + str(d_large), marker = '.')\n",
    "\n",
    "\n",
    "plt.xscale('log')\n",
    "plt.yscale('log')\n",
    "\n",
    "plt.ylim(1e-4, 1e-1)\n",
    "\n",
    "plt.xlabel('$\\epsilon_{app}$', fontsize = 12)\n",
    "plt.ylabel('$MIN(\\omega_i)$', fontsize = 12)\n",
    "plt.legend(loc = 4)\n",
    "\n",
    "#plt.savefig('min_omega_vs_epsapp_WTonly.pdf')"
   ]
  },
  {
   "cell_type": "code",
   "execution_count": null,
   "metadata": {},
   "outputs": [],
   "source": []
  }
 ],
 "metadata": {
  "kernelspec": {
   "display_name": "Python 3",
   "language": "python",
   "name": "python3"
  },
  "language_info": {
   "codemirror_mode": {
    "name": "ipython",
    "version": 3
   },
   "file_extension": ".py",
   "mimetype": "text/x-python",
   "name": "python",
   "nbconvert_exporter": "python",
   "pygments_lexer": "ipython3",
   "version": "3.8.3"
  }
 },
 "nbformat": 4,
 "nbformat_minor": 4
}
